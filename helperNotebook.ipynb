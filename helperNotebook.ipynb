{
 "cells": [
  {
   "cell_type": "code",
   "execution_count": 2,
   "metadata": {},
   "outputs": [],
   "source": [
    "import pandas as pd"
   ]
  },
  {
   "cell_type": "code",
   "execution_count": 13,
   "metadata": {},
   "outputs": [
    {
     "data": {
      "text/plain": [
       "<bound method NDFrame.head of                        Name       Category Reinforcement         Damage  \\\n",
       "0                      Fist          Fists       Regular     20/0/0/0/0   \n",
       "1         Dragonhead Shield  Small Shields          Boss   116/0/12/0/0   \n",
       "2    Dragonhead Greatshield   Greatshields          Boss    145/0/0/0/0   \n",
       "3           White Birch Bow           Bows        Unique     82/0/0/0/0   \n",
       "4      Preacher's Right Arm         Staves        Unique    109/0/0/0/0   \n",
       "..                      ...            ...           ...            ...   \n",
       "282                Eleonora           Axes          Boss    156/0/0/0/0   \n",
       "283      Dragonslayer's Axe           Axes       Regular  105/0/0/105/0   \n",
       "284           Butcher Knife           Axes       Regular     95/0/0/0/0   \n",
       "285             Brigand Axe           Axes       Regular    124/0/0/0/0   \n",
       "286              Battle Axe           Axes       Regular    125/0/0/0/0   \n",
       "\n",
       "    Damage Reduction Aux Effects Stat Requirements Stat Bonuses  Critical  \\\n",
       "0          0/0/0/0/0       0/0/0           0/0/0/0      -/-/-/-       100   \n",
       "1     70/65/90/35/55       0/0/0        12/0/11/12      D/-/E/E       100   \n",
       "2    100/55/90/30/55       0/0/0         35/0/0/15      D/-/-/E       100   \n",
       "3          -/-/-/-/-       0/0/0          8/20/0/0      E/D/-/-       100   \n",
       "4     25/20/10/10/15       0/0/0         12/0/14/0      E/-/A/-       100   \n",
       "..               ...         ...               ...          ...       ...   \n",
       "282   55/40/30/30/40       0/0/0          20/8/0/0      D/E/-/-       100   \n",
       "283   45/30/25/25/30       0/0/0         18/14/0/0      D/E/-/-       100   \n",
       "284   60/40/30/30/40       0/0/0          24/0/0/0      A/-/-/-       100   \n",
       "285   45/30/25/25/30       0/0/0          14/8/0/0      D/D/-/-       100   \n",
       "286   45/30/25/25/30       0/0/0          12/8/0/0      D/D/-/-       100   \n",
       "\n",
       "     Weight Stability  Durability  Sell Price  Spell Buff  Range Buffable  \\\n",
       "0       0.0         0           0         0.0         NaN    NaN       No   \n",
       "1       4.5        40          85       500.0         NaN    NaN      Yes   \n",
       "2      18.0        60         150       500.0         NaN    NaN      Yes   \n",
       "3       2.5         -          50       300.0         NaN   49.0       No   \n",
       "4       2.0        10          50       300.0       229.0    NaN       No   \n",
       "..      ...       ...         ...         ...         ...    ...      ...   \n",
       "282     6.5        35          90       500.0         NaN    NaN       No   \n",
       "283     4.0        30          70       100.0         NaN    NaN      Yes   \n",
       "284     7.0        35          75       500.0         NaN    NaN       No   \n",
       "285     3.0        30          75       100.0         NaN    NaN      Yes   \n",
       "286     4.0        30          80       120.0         NaN    NaN      Yes   \n",
       "\n",
       "    Infusable  \n",
       "0          No  \n",
       "1          No  \n",
       "2          No  \n",
       "3          No  \n",
       "4          No  \n",
       "..        ...  \n",
       "282        No  \n",
       "283       Yes  \n",
       "284        No  \n",
       "285       Yes  \n",
       "286       Yes  \n",
       "\n",
       "[287 rows x 17 columns]>"
      ]
     },
     "execution_count": 13,
     "metadata": {},
     "output_type": "execute_result"
    }
   ],
   "source": [
    "# Read in csv and save to DF\n",
    "df = pd.read_csv(\"D:\\\\Documents\\\\GitHub\\\\DarkSoulsWeaponProject\\\\ds3Backend\\\\src\\\\main\\\\resources\\\\DS3_weapon.csv\")\n",
    "df.head"
   ]
  },
  {
   "cell_type": "code",
   "execution_count": 17,
   "metadata": {},
   "outputs": [
    {
     "name": "stdout",
     "output_type": "stream",
     "text": [
      "Index(['Name', 'Category', 'Reinforcement', 'Damage', 'Damage Reduction',\n",
      "       'Aux Effects', 'Stat Requirements', 'Stat Bonuses', 'Critical',\n",
      "       'Weight', 'Stability', 'Durability', 'Sell Price', 'Spell Buff',\n",
      "       'Range', 'Buffable', 'Infusable'],\n",
      "      dtype='object')\n",
      "Name                  object\n",
      "Category              object\n",
      "Reinforcement         object\n",
      "Damage                object\n",
      "Damage Reduction      object\n",
      "Aux Effects           object\n",
      "Stat Requirements     object\n",
      "Stat Bonuses          object\n",
      "Critical               int64\n",
      "Weight               float64\n",
      "Stability             object\n",
      "Durability             int64\n",
      "Sell Price           float64\n",
      "Spell Buff           float64\n",
      "Range                float64\n",
      "Buffable              object\n",
      "Infusable             object\n",
      "dtype: object\n",
      "         Critical      Weight  Durability   Sell Price  Spell Buff      Range\n",
      "count  287.000000  287.000000  287.000000   286.000000   33.000000  17.000000\n",
      "mean   100.923345    6.695122   81.602787   383.513986  216.878788  48.529412\n",
      "std      4.023668    5.795789   50.884234   394.900527   45.103186   7.851096\n",
      "min    100.000000    0.000000    0.000000     0.000000   60.000000  35.000000\n",
      "25%    100.000000    2.500000   55.000000   100.000000  203.000000  42.000000\n",
      "50%    100.000000    5.000000   70.000000   200.000000  220.000000  50.000000\n",
      "75%    100.000000    9.000000   90.000000   500.000000  232.000000  50.000000\n",
      "max    130.000000   28.000000  500.000000  2000.000000  312.000000  63.000000\n"
     ]
    }
   ],
   "source": [
    "# Check on data to see how it is represented\n",
    "\n",
    "print(df.columns)\n",
    "print(df.dtypes)\n",
    "print(df.describe())\n"
   ]
  },
  {
   "cell_type": "markdown",
   "metadata": {},
   "source": []
  },
  {
   "cell_type": "code",
   "execution_count": 24,
   "metadata": {},
   "outputs": [
    {
     "name": "stdout",
     "output_type": "stream",
     "text": [
      "Category: \n",
      "\n",
      "['FISTS' 'SMALL SHIELDS' 'GREATSHIELDS' 'BOWS' 'STAVES' 'CHIMES' 'PIKES'\n",
      " 'GREAT HAMMERS' 'HALBERDS' 'CROSSBOWS' 'GREATSWORDS' 'KATANAS'\n",
      " 'ULTRA GREATSWORDS' 'STRAIGHT SWORDS' 'CURVED SWORDS'\n",
      " 'CURVED GREATSWORDS' 'DAGGERS' 'WHIPS' 'PYROMANCY FLAMES'\n",
      " 'NORMAL SHIELDS' 'TORCHES' 'REAPERS' 'THRUSTING SWORDS' 'SPEARS'\n",
      " 'GREATBOWS' 'GREATAXES' 'CLAWS' 'AXES' 'TALISMANS' 'HAMMERS']\n",
      "Reinforcement: \n",
      "\n",
      "['REGULAR' 'BOSS' 'UNIQUE' 'SPELL TOOL' 'BOW']\n"
     ]
    }
   ],
   "source": [
    "# Get uniques for enum values\n",
    "\n",
    "print(\"Category: \\n\")\n",
    "print(df['Category'].apply(lambda x: x.upper()).unique())\n",
    "\n",
    "print(\"Reinforcement: \\n\")\n",
    "print(df['Reinforcement'].apply(lambda x: x.upper()).unique())"
   ]
  },
  {
   "cell_type": "code",
   "execution_count": null,
   "metadata": {},
   "outputs": [],
   "source": []
  }
 ],
 "metadata": {
  "interpreter": {
   "hash": "b500db6cd586ece582d033cd377559500f64dcbcafb61303efa15a865a174cfb"
  },
  "kernelspec": {
   "display_name": "Python 3.7.6 ('base')",
   "language": "python",
   "name": "python3"
  },
  "language_info": {
   "codemirror_mode": {
    "name": "ipython",
    "version": 3
   },
   "file_extension": ".py",
   "mimetype": "text/x-python",
   "name": "python",
   "nbconvert_exporter": "python",
   "pygments_lexer": "ipython3",
   "version": "3.7.6"
  },
  "orig_nbformat": 4
 },
 "nbformat": 4,
 "nbformat_minor": 2
}
